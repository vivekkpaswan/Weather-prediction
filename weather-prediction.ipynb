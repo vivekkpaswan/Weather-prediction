{
 "cells": [
  {
   "cell_type": "code",
   "execution_count": 1,
   "id": "020616d2",
   "metadata": {
    "papermill": {
     "duration": 1.539745,
     "end_time": "2022-01-20T02:34:37.412420",
     "exception": false,
     "start_time": "2022-01-20T02:34:35.872675",
     "status": "completed"
    },
    "tags": []
   },
   "outputs": [],
   "source": [
    "import matplotlib.pyplot as plt\n",
    "import seaborn as sns\n",
    "import scipy\n",
    "import re\n",
    "import missingno as mso\n",
    "from scipy import stats\n",
    "from scipy.stats import ttest_ind\n",
    "from scipy.stats import pearsonr\n",
    "from sklearn.preprocessing import StandardScaler,LabelEncoder\n",
    "from sklearn.model_selection import train_test_split \n",
    "from sklearn.neighbors import KNeighborsClassifier\n",
    "from sklearn.svm import SVC\n",
    "from sklearn.ensemble import GradientBoostingClassifier\n",
    "from xgboost import XGBClassifier\n",
    "from sklearn.metrics import accuracy_score,confusion_matrix,classification_report\n",
    "import pandas as pd\n",
    "import numpy as np\n",
    "import joblib"
   ]
  },
  {
   "cell_type": "code",
   "execution_count": 2,
   "id": "b64181b9",
   "metadata": {
    "papermill": {
     "duration": 0.088913,
     "end_time": "2022-01-20T02:34:37.733108",
     "exception": false,
     "start_time": "2022-01-20T02:34:37.644195",
     "status": "completed"
    },
    "tags": []
   },
   "outputs": [
    {
     "name": "stdout",
     "output_type": "stream",
     "text": [
      "<class 'pandas.core.frame.DataFrame'>\n",
      "RangeIndex: 1461 entries, 0 to 1460\n",
      "Data columns (total 6 columns):\n",
      " #   Column         Non-Null Count  Dtype  \n",
      "---  ------         --------------  -----  \n",
      " 0   date           1461 non-null   object \n",
      " 1   precipitation  1461 non-null   float64\n",
      " 2   temp_max       1461 non-null   float64\n",
      " 3   temp_min       1461 non-null   float64\n",
      " 4   wind           1461 non-null   float64\n",
      " 5   weather        1461 non-null   object \n",
      "dtypes: float64(4), object(2)\n",
      "memory usage: 68.6+ KB\n"
     ]
    }
   ],
   "source": [
    "data=pd.read_csv(\"seattle-weather.csv\")\n",
    "data.head()\n",
    "data.info()"
   ]
  },
  {
   "cell_type": "code",
   "execution_count": 3,
   "id": "5426a3e3",
   "metadata": {
    "papermill": {
     "duration": 0.055306,
     "end_time": "2022-01-20T02:34:37.835143",
     "exception": false,
     "start_time": "2022-01-20T02:34:37.779837",
     "status": "completed"
    },
    "tags": []
   },
   "outputs": [
    {
     "data": {
      "text/plain": [
       "(1461, 6)"
      ]
     },
     "execution_count": 3,
     "metadata": {},
     "output_type": "execute_result"
    }
   ],
   "source": [
    "data.shape"
   ]
  },
  {
   "cell_type": "code",
   "execution_count": 4,
   "id": "9a84453e",
   "metadata": {
    "papermill": {
     "duration": 0.063662,
     "end_time": "2022-01-20T02:34:38.557562",
     "exception": false,
     "start_time": "2022-01-20T02:34:38.493900",
     "status": "completed"
    },
    "tags": []
   },
   "outputs": [
    {
     "name": "stdout",
     "output_type": "stream",
     "text": [
      "Percent of Rain:43.874059%\n",
      "Percent of Sun:43.805613%\n",
      "Percent of Drizzle:3.627652%\n",
      "Percent of Snow:1.779603%\n",
      "Percent of Fog:6.913073%\n"
     ]
    }
   ],
   "source": [
    "countrain=len(data[data.weather==\"rain\"])\n",
    "countsun=len(data[data.weather==\"sun\"])\n",
    "countdrizzle=len(data[data.weather==\"drizzle\"])\n",
    "countsnow=len(data[data.weather==\"snow\"])\n",
    "countfog=len(data[data.weather==\"fog\"])\n",
    "print(\"Percent of Rain:{:2f}%\".format((countrain/(len(data.weather))*100)))\n",
    "print(\"Percent of Sun:{:2f}%\".format((countsun/(len(data.weather))*100)))\n",
    "print(\"Percent of Drizzle:{:2f}%\".format((countdrizzle/(len(data.weather))*100)))\n",
    "print(\"Percent of Snow:{:2f}%\".format((countsnow/(len(data.weather))*100)))\n",
    "print(\"Percent of Fog:{:2f}%\".format((countfog/(len(data.weather))*100)))"
   ]
  },
  {
   "cell_type": "markdown",
   "id": "0a9f7150",
   "metadata": {
    "papermill": {
     "duration": 0.048647,
     "end_time": "2022-01-20T02:34:38.654814",
     "exception": false,
     "start_time": "2022-01-20T02:34:38.606167",
     "status": "completed"
    },
    "tags": []
   },
   "source": [
    "From the Above countplot the data set contains higher amount of data with the weather datail of ***Rain and Sun*** and it also have some additionals like ***drizzle,snow and fog*** ."
   ]
  },
  {
   "cell_type": "code",
   "execution_count": 5,
   "id": "fc4901bb",
   "metadata": {
    "papermill": {
     "duration": 0.074386,
     "end_time": "2022-01-20T02:34:38.873778",
     "exception": false,
     "start_time": "2022-01-20T02:34:38.799392",
     "status": "completed"
    },
    "tags": []
   },
   "outputs": [
    {
     "data": {
      "text/html": [
       "<div>\n",
       "<style scoped>\n",
       "    .dataframe tbody tr th:only-of-type {\n",
       "        vertical-align: middle;\n",
       "    }\n",
       "\n",
       "    .dataframe tbody tr th {\n",
       "        vertical-align: top;\n",
       "    }\n",
       "\n",
       "    .dataframe thead th {\n",
       "        text-align: right;\n",
       "    }\n",
       "</style>\n",
       "<table border=\"1\" class=\"dataframe\">\n",
       "  <thead>\n",
       "    <tr style=\"text-align: right;\">\n",
       "      <th></th>\n",
       "      <th>precipitation</th>\n",
       "      <th>temp_max</th>\n",
       "      <th>temp_min</th>\n",
       "      <th>wind</th>\n",
       "    </tr>\n",
       "  </thead>\n",
       "  <tbody>\n",
       "    <tr>\n",
       "      <th>count</th>\n",
       "      <td>1461.000000</td>\n",
       "      <td>1461.000000</td>\n",
       "      <td>1461.000000</td>\n",
       "      <td>1461.000000</td>\n",
       "    </tr>\n",
       "    <tr>\n",
       "      <th>mean</th>\n",
       "      <td>3.029432</td>\n",
       "      <td>16.439083</td>\n",
       "      <td>8.234771</td>\n",
       "      <td>3.241136</td>\n",
       "    </tr>\n",
       "    <tr>\n",
       "      <th>std</th>\n",
       "      <td>6.680194</td>\n",
       "      <td>7.349758</td>\n",
       "      <td>5.023004</td>\n",
       "      <td>1.437825</td>\n",
       "    </tr>\n",
       "    <tr>\n",
       "      <th>min</th>\n",
       "      <td>0.000000</td>\n",
       "      <td>-1.600000</td>\n",
       "      <td>-7.100000</td>\n",
       "      <td>0.400000</td>\n",
       "    </tr>\n",
       "    <tr>\n",
       "      <th>25%</th>\n",
       "      <td>0.000000</td>\n",
       "      <td>10.600000</td>\n",
       "      <td>4.400000</td>\n",
       "      <td>2.200000</td>\n",
       "    </tr>\n",
       "    <tr>\n",
       "      <th>50%</th>\n",
       "      <td>0.000000</td>\n",
       "      <td>15.600000</td>\n",
       "      <td>8.300000</td>\n",
       "      <td>3.000000</td>\n",
       "    </tr>\n",
       "    <tr>\n",
       "      <th>75%</th>\n",
       "      <td>2.800000</td>\n",
       "      <td>22.200000</td>\n",
       "      <td>12.200000</td>\n",
       "      <td>4.000000</td>\n",
       "    </tr>\n",
       "    <tr>\n",
       "      <th>max</th>\n",
       "      <td>55.900000</td>\n",
       "      <td>35.600000</td>\n",
       "      <td>18.300000</td>\n",
       "      <td>9.500000</td>\n",
       "    </tr>\n",
       "  </tbody>\n",
       "</table>\n",
       "</div>"
      ],
      "text/plain": [
       "       precipitation     temp_max     temp_min         wind\n",
       "count    1461.000000  1461.000000  1461.000000  1461.000000\n",
       "mean        3.029432    16.439083     8.234771     3.241136\n",
       "std         6.680194     7.349758     5.023004     1.437825\n",
       "min         0.000000    -1.600000    -7.100000     0.400000\n",
       "25%         0.000000    10.600000     4.400000     2.200000\n",
       "50%         0.000000    15.600000     8.300000     3.000000\n",
       "75%         2.800000    22.200000    12.200000     4.000000\n",
       "max        55.900000    35.600000    18.300000     9.500000"
      ]
     },
     "execution_count": 5,
     "metadata": {},
     "output_type": "execute_result"
    }
   ],
   "source": [
    "data[[\"precipitation\",\"temp_max\",\"temp_min\",\"wind\"]].describe()"
   ]
  },
  {
   "cell_type": "markdown",
   "id": "ba1d904a",
   "metadata": {
    "papermill": {
     "duration": 0.052183,
     "end_time": "2022-01-20T02:34:42.278775",
     "exception": false,
     "start_time": "2022-01-20T02:34:42.226592",
     "status": "completed"
    },
    "tags": []
   },
   "source": [
    "From the above box plot between the ***Weather and Precipitation*** \n",
    "the value ***Rain*** has many **positive outliers** and both **Rain and Snow** were ***positively skewed/has positive skewness***."
   ]
  },
  {
   "cell_type": "markdown",
   "id": "2078a625",
   "metadata": {
    "papermill": {
     "duration": 0.06046,
     "end_time": "2022-01-20T02:34:45.419376",
     "exception": false,
     "start_time": "2022-01-20T02:34:45.358916",
     "status": "completed"
    },
    "tags": []
   },
   "source": [
    "As from the above result of ***T test and P value of 0*** indicates that the ***Null hypothesis*** in the corresponding columns is **rejected** and the columns are ***Statistically significant*** "
   ]
  },
  {
   "cell_type": "code",
   "execution_count": 6,
   "id": "a06ca504",
   "metadata": {
    "papermill": {
     "duration": 0.073206,
     "end_time": "2022-01-20T02:34:46.077966",
     "exception": false,
     "start_time": "2022-01-20T02:34:46.004760",
     "status": "completed"
    },
    "tags": []
   },
   "outputs": [
    {
     "data": {
      "text/plain": [
       "date             0\n",
       "precipitation    0\n",
       "temp_max         0\n",
       "temp_min         0\n",
       "wind             0\n",
       "weather          0\n",
       "dtype: int64"
      ]
     },
     "execution_count": 6,
     "metadata": {},
     "output_type": "execute_result"
    }
   ],
   "source": [
    "data.isna().sum()"
   ]
  },
  {
   "cell_type": "code",
   "execution_count": 7,
   "id": "01a7068b",
   "metadata": {
    "papermill": {
     "duration": 0.070257,
     "end_time": "2022-01-20T02:34:47.337418",
     "exception": false,
     "start_time": "2022-01-20T02:34:47.267161",
     "status": "completed"
    },
    "tags": []
   },
   "outputs": [],
   "source": [
    "df=data.drop([\"date\"],axis=1)"
   ]
  },
  {
   "cell_type": "markdown",
   "id": "4b0594e9",
   "metadata": {
    "papermill": {
     "duration": 0.062618,
     "end_time": "2022-01-20T02:34:47.463993",
     "exception": false,
     "start_time": "2022-01-20T02:34:47.401375",
     "status": "completed"
    },
    "tags": []
   },
   "source": [
    "**Remove Outliers & Infinite Values**\n",
    "\n",
    "Since this dataset contains ***Outliers ,it will be removed***,to make data set more even."
   ]
  },
  {
   "cell_type": "code",
   "execution_count": 8,
   "id": "7b719595",
   "metadata": {
    "papermill": {
     "duration": 0.080829,
     "end_time": "2022-01-20T02:34:47.607831",
     "exception": false,
     "start_time": "2022-01-20T02:34:47.527002",
     "status": "completed"
    },
    "tags": []
   },
   "outputs": [],
   "source": [
    "from scipy.stats import zscore\n",
    "\n",
    "# Assuming df is your DataFrame\n",
    "# Selecting the columns you want to check for outliers (excluding \"weather\" column)\n",
    "columns_to_check = df.columns[df.columns != \"weather\"]\n",
    "\n",
    "# Calculating z-scores for selected columns\n",
    "z_scores = zscore(df[columns_to_check])\n",
    "\n",
    "# Setting a threshold for z-score to identify outliers (e.g., z-score greater than 3)\n",
    "threshold = 3\n",
    "\n",
    "# Finding rows where any z-score exceeds the threshold\n",
    "outlier_indices = (z_scores > threshold).any(axis=1)\n",
    "\n",
    "# Filtering out rows containing outliers\n",
    "df = df[~outlier_indices]\n"
   ]
  },
  {
   "cell_type": "code",
   "execution_count": 9,
   "id": "a3d41d9d",
   "metadata": {
    "papermill": {
     "duration": 0.071375,
     "end_time": "2022-01-20T02:34:47.869129",
     "exception": false,
     "start_time": "2022-01-20T02:34:47.797754",
     "status": "completed"
    },
    "tags": []
   },
   "outputs": [],
   "source": [
    "df.precipitation=np.sqrt(df.precipitation)\n",
    "df.wind=np.sqrt(df.wind)"
   ]
  },
  {
   "cell_type": "code",
   "execution_count": 10,
   "id": "4e89bcd2",
   "metadata": {
    "papermill": {
     "duration": 1.057637,
     "end_time": "2022-01-20T02:34:49.002146",
     "exception": false,
     "start_time": "2022-01-20T02:34:47.944509",
     "status": "completed"
    },
    "tags": []
   },
   "outputs": [
    {
     "name": "stderr",
     "output_type": "stream",
     "text": [
      "C:\\Users\\pc\\anaconda3\\Lib\\site-packages\\seaborn\\_oldcore.py:1119: FutureWarning: use_inf_as_na option is deprecated and will be removed in a future version. Convert inf values to NaN before operating instead.\n",
      "  with pd.option_context('mode.use_inf_as_na', True):\n",
      "C:\\Users\\pc\\anaconda3\\Lib\\site-packages\\seaborn\\_oldcore.py:1119: FutureWarning: use_inf_as_na option is deprecated and will be removed in a future version. Convert inf values to NaN before operating instead.\n",
      "  with pd.option_context('mode.use_inf_as_na', True):\n",
      "C:\\Users\\pc\\anaconda3\\Lib\\site-packages\\seaborn\\_oldcore.py:1119: FutureWarning: use_inf_as_na option is deprecated and will be removed in a future version. Convert inf values to NaN before operating instead.\n",
      "  with pd.option_context('mode.use_inf_as_na', True):\n",
      "C:\\Users\\pc\\anaconda3\\Lib\\site-packages\\seaborn\\_oldcore.py:1119: FutureWarning: use_inf_as_na option is deprecated and will be removed in a future version. Convert inf values to NaN before operating instead.\n",
      "  with pd.option_context('mode.use_inf_as_na', True):\n"
     ]
    },
    {
     "data": {
      "text/plain": [
       "<Axes: xlabel='wind', ylabel='Count'>"
      ]
     },
     "execution_count": 10,
     "metadata": {},
     "output_type": "execute_result"
    },
    {
     "data": {
      "image/png": "[encoded data removed]",
      "text/plain": [
       "<Figure size 1000x800 with 4 Axes>"
      ]
     },
     "metadata": {},
     "output_type": "display_data"
    }
   ],
   "source": [
    "sns.set(style=\"darkgrid\")\n",
    "fig,axs=plt.subplots(2,2,figsize=(10,8))\n",
    "sns.histplot(data=df,x=\"precipitation\",kde=True,ax=axs[0,0],color='green')\n",
    "sns.histplot(data=df,x=\"temp_max\",kde=True,ax=axs[0,1],color='red')\n",
    "sns.histplot(data=df,x=\"temp_min\",kde=True,ax=axs[1,0],color='skyblue')\n",
    "sns.histplot(data=df,x=\"wind\",kde=True,ax=axs[1,1],color='orange')"
   ]
  },
  {
   "cell_type": "code",
   "execution_count": 11,
   "id": "dee53799",
   "metadata": {
    "papermill": {
     "duration": 0.081581,
     "end_time": "2022-01-20T02:34:49.149731",
     "exception": false,
     "start_time": "2022-01-20T02:34:49.068150",
     "status": "completed"
    },
    "tags": []
   },
   "outputs": [
    {
     "data": {
      "text/html": [
       "<div>\n",
       "<style scoped>\n",
       "    .dataframe tbody tr th:only-of-type {\n",
       "        vertical-align: middle;\n",
       "    }\n",
       "\n",
       "    .dataframe tbody tr th {\n",
       "        vertical-align: top;\n",
       "    }\n",
       "\n",
       "    .dataframe thead th {\n",
       "        text-align: right;\n",
       "    }\n",
       "</style>\n",
       "<table border=\"1\" class=\"dataframe\">\n",
       "  <thead>\n",
       "    <tr style=\"text-align: right;\">\n",
       "      <th></th>\n",
       "      <th>precipitation</th>\n",
       "      <th>temp_max</th>\n",
       "      <th>temp_min</th>\n",
       "      <th>wind</th>\n",
       "      <th>weather</th>\n",
       "    </tr>\n",
       "  </thead>\n",
       "  <tbody>\n",
       "    <tr>\n",
       "      <th>0</th>\n",
       "      <td>0.000000</td>\n",
       "      <td>12.8</td>\n",
       "      <td>5.0</td>\n",
       "      <td>2.167948</td>\n",
       "      <td>drizzle</td>\n",
       "    </tr>\n",
       "    <tr>\n",
       "      <th>1</th>\n",
       "      <td>3.301515</td>\n",
       "      <td>10.6</td>\n",
       "      <td>2.8</td>\n",
       "      <td>2.121320</td>\n",
       "      <td>rain</td>\n",
       "    </tr>\n",
       "    <tr>\n",
       "      <th>2</th>\n",
       "      <td>0.894427</td>\n",
       "      <td>11.7</td>\n",
       "      <td>7.2</td>\n",
       "      <td>1.516575</td>\n",
       "      <td>rain</td>\n",
       "    </tr>\n",
       "    <tr>\n",
       "      <th>3</th>\n",
       "      <td>4.505552</td>\n",
       "      <td>12.2</td>\n",
       "      <td>5.6</td>\n",
       "      <td>2.167948</td>\n",
       "      <td>rain</td>\n",
       "    </tr>\n",
       "    <tr>\n",
       "      <th>4</th>\n",
       "      <td>1.140175</td>\n",
       "      <td>8.9</td>\n",
       "      <td>2.8</td>\n",
       "      <td>2.469818</td>\n",
       "      <td>rain</td>\n",
       "    </tr>\n",
       "  </tbody>\n",
       "</table>\n",
       "</div>"
      ],
      "text/plain": [
       "   precipitation  temp_max  temp_min      wind  weather\n",
       "0       0.000000      12.8       5.0  2.167948  drizzle\n",
       "1       3.301515      10.6       2.8  2.121320     rain\n",
       "2       0.894427      11.7       7.2  1.516575     rain\n",
       "3       4.505552      12.2       5.6  2.167948     rain\n",
       "4       1.140175       8.9       2.8  2.469818     rain"
      ]
     },
     "execution_count": 11,
     "metadata": {},
     "output_type": "execute_result"
    }
   ],
   "source": [
    "df.head()"
   ]
  },
  {
   "cell_type": "code",
   "execution_count": 12,
   "id": "a8a7cd3a",
   "metadata": {
    "papermill": {
     "duration": 0.073293,
     "end_time": "2022-01-20T02:34:49.422705",
     "exception": false,
     "start_time": "2022-01-20T02:34:49.349412",
     "status": "completed"
    },
    "tags": []
   },
   "outputs": [],
   "source": [
    "lc=LabelEncoder()\n",
    "df[\"weather\"]=lc.fit_transform(df[\"weather\"])"
   ]
  },
  {
   "cell_type": "code",
   "execution_count": 13,
   "id": "db01626e",
   "metadata": {
    "papermill": {
     "duration": 0.081201,
     "end_time": "2022-01-20T02:34:49.569255",
     "exception": false,
     "start_time": "2022-01-20T02:34:49.488054",
     "status": "completed"
    },
    "tags": []
   },
   "outputs": [
    {
     "data": {
      "text/html": [
       "<div>\n",
       "<style scoped>\n",
       "    .dataframe tbody tr th:only-of-type {\n",
       "        vertical-align: middle;\n",
       "    }\n",
       "\n",
       "    .dataframe tbody tr th {\n",
       "        vertical-align: top;\n",
       "    }\n",
       "\n",
       "    .dataframe thead th {\n",
       "        text-align: right;\n",
       "    }\n",
       "</style>\n",
       "<table border=\"1\" class=\"dataframe\">\n",
       "  <thead>\n",
       "    <tr style=\"text-align: right;\">\n",
       "      <th></th>\n",
       "      <th>precipitation</th>\n",
       "      <th>temp_max</th>\n",
       "      <th>temp_min</th>\n",
       "      <th>wind</th>\n",
       "      <th>weather</th>\n",
       "    </tr>\n",
       "  </thead>\n",
       "  <tbody>\n",
       "    <tr>\n",
       "      <th>0</th>\n",
       "      <td>0.000000</td>\n",
       "      <td>12.8</td>\n",
       "      <td>5.0</td>\n",
       "      <td>2.167948</td>\n",
       "      <td>0</td>\n",
       "    </tr>\n",
       "    <tr>\n",
       "      <th>1</th>\n",
       "      <td>3.301515</td>\n",
       "      <td>10.6</td>\n",
       "      <td>2.8</td>\n",
       "      <td>2.121320</td>\n",
       "      <td>2</td>\n",
       "    </tr>\n",
       "    <tr>\n",
       "      <th>2</th>\n",
       "      <td>0.894427</td>\n",
       "      <td>11.7</td>\n",
       "      <td>7.2</td>\n",
       "      <td>1.516575</td>\n",
       "      <td>2</td>\n",
       "    </tr>\n",
       "    <tr>\n",
       "      <th>3</th>\n",
       "      <td>4.505552</td>\n",
       "      <td>12.2</td>\n",
       "      <td>5.6</td>\n",
       "      <td>2.167948</td>\n",
       "      <td>2</td>\n",
       "    </tr>\n",
       "    <tr>\n",
       "      <th>4</th>\n",
       "      <td>1.140175</td>\n",
       "      <td>8.9</td>\n",
       "      <td>2.8</td>\n",
       "      <td>2.469818</td>\n",
       "      <td>2</td>\n",
       "    </tr>\n",
       "  </tbody>\n",
       "</table>\n",
       "</div>"
      ],
      "text/plain": [
       "   precipitation  temp_max  temp_min      wind  weather\n",
       "0       0.000000      12.8       5.0  2.167948        0\n",
       "1       3.301515      10.6       2.8  2.121320        2\n",
       "2       0.894427      11.7       7.2  1.516575        2\n",
       "3       4.505552      12.2       5.6  2.167948        2\n",
       "4       1.140175       8.9       2.8  2.469818        2"
      ]
     },
     "execution_count": 13,
     "metadata": {},
     "output_type": "execute_result"
    }
   ],
   "source": [
    "df.head()"
   ]
  },
  {
   "cell_type": "code",
   "execution_count": 14,
   "id": "9eea67c0-09f4-4cc7-b556-7a7d6bb3ec7a",
   "metadata": {},
   "outputs": [
    {
     "data": {
      "text/html": [
       "<div>\n",
       "<style scoped>\n",
       "    .dataframe tbody tr th:only-of-type {\n",
       "        vertical-align: middle;\n",
       "    }\n",
       "\n",
       "    .dataframe tbody tr th {\n",
       "        vertical-align: top;\n",
       "    }\n",
       "\n",
       "    .dataframe thead th {\n",
       "        text-align: right;\n",
       "    }\n",
       "</style>\n",
       "<table border=\"1\" class=\"dataframe\">\n",
       "  <thead>\n",
       "    <tr style=\"text-align: right;\">\n",
       "      <th></th>\n",
       "      <th>precipitation</th>\n",
       "      <th>temp_max</th>\n",
       "      <th>temp_min</th>\n",
       "      <th>wind</th>\n",
       "      <th>weather</th>\n",
       "    </tr>\n",
       "  </thead>\n",
       "  <tbody>\n",
       "    <tr>\n",
       "      <th>0</th>\n",
       "      <td>-0.670153</td>\n",
       "      <td>-0.511060</td>\n",
       "      <td>-0.646187</td>\n",
       "      <td>1.152496</td>\n",
       "      <td>0</td>\n",
       "    </tr>\n",
       "    <tr>\n",
       "      <th>1</th>\n",
       "      <td>2.001130</td>\n",
       "      <td>-0.808255</td>\n",
       "      <td>-1.081040</td>\n",
       "      <td>1.028023</td>\n",
       "      <td>2</td>\n",
       "    </tr>\n",
       "    <tr>\n",
       "      <th>2</th>\n",
       "      <td>0.053536</td>\n",
       "      <td>-0.659658</td>\n",
       "      <td>-0.211333</td>\n",
       "      <td>-0.586336</td>\n",
       "      <td>2</td>\n",
       "    </tr>\n",
       "    <tr>\n",
       "      <th>3</th>\n",
       "      <td>2.975326</td>\n",
       "      <td>-0.592113</td>\n",
       "      <td>-0.527590</td>\n",
       "      <td>1.152496</td>\n",
       "      <td>2</td>\n",
       "    </tr>\n",
       "    <tr>\n",
       "      <th>4</th>\n",
       "      <td>0.252372</td>\n",
       "      <td>-1.037907</td>\n",
       "      <td>-1.081040</td>\n",
       "      <td>1.958333</td>\n",
       "      <td>2</td>\n",
       "    </tr>\n",
       "    <tr>\n",
       "      <th>...</th>\n",
       "      <td>...</td>\n",
       "      <td>...</td>\n",
       "      <td>...</td>\n",
       "      <td>...</td>\n",
       "      <td>...</td>\n",
       "    </tr>\n",
       "    <tr>\n",
       "      <th>1456</th>\n",
       "      <td>1.702618</td>\n",
       "      <td>-1.645807</td>\n",
       "      <td>-1.298467</td>\n",
       "      <td>-0.088841</td>\n",
       "      <td>2</td>\n",
       "    </tr>\n",
       "    <tr>\n",
       "      <th>1457</th>\n",
       "      <td>0.320798</td>\n",
       "      <td>-1.564754</td>\n",
       "      <td>-1.298467</td>\n",
       "      <td>-1.591130</td>\n",
       "      <td>2</td>\n",
       "    </tr>\n",
       "    <tr>\n",
       "      <th>1458</th>\n",
       "      <td>-0.670153</td>\n",
       "      <td>-1.267558</td>\n",
       "      <td>-1.515894</td>\n",
       "      <td>-0.330395</td>\n",
       "      <td>1</td>\n",
       "    </tr>\n",
       "    <tr>\n",
       "      <th>1459</th>\n",
       "      <td>-0.670153</td>\n",
       "      <td>-1.483700</td>\n",
       "      <td>-1.832151</td>\n",
       "      <td>0.287477</td>\n",
       "      <td>4</td>\n",
       "    </tr>\n",
       "    <tr>\n",
       "      <th>1460</th>\n",
       "      <td>-0.670153</td>\n",
       "      <td>-1.483700</td>\n",
       "      <td>-2.049578</td>\n",
       "      <td>0.359339</td>\n",
       "      <td>4</td>\n",
       "    </tr>\n",
       "  </tbody>\n",
       "</table>\n",
       "<p>1411 rows × 5 columns</p>\n",
       "</div>"
      ],
      "text/plain": [
       "      precipitation  temp_max  temp_min      wind  weather\n",
       "0         -0.670153 -0.511060 -0.646187  1.152496        0\n",
       "1          2.001130 -0.808255 -1.081040  1.028023        2\n",
       "2          0.053536 -0.659658 -0.211333 -0.586336        2\n",
       "3          2.975326 -0.592113 -0.527590  1.152496        2\n",
       "4          0.252372 -1.037907 -1.081040  1.958333        2\n",
       "...             ...       ...       ...       ...      ...\n",
       "1456       1.702618 -1.645807 -1.298467 -0.088841        2\n",
       "1457       0.320798 -1.564754 -1.298467 -1.591130        2\n",
       "1458      -0.670153 -1.267558 -1.515894 -0.330395        1\n",
       "1459      -0.670153 -1.483700 -1.832151  0.287477        4\n",
       "1460      -0.670153 -1.483700 -2.049578  0.359339        4\n",
       "\n",
       "[1411 rows x 5 columns]"
      ]
     },
     "execution_count": 14,
     "metadata": {},
     "output_type": "execute_result"
    }
   ],
   "source": [
    "from sklearn.preprocessing import StandardScaler\n",
    "columns_to_scale = df.columns[df.columns != \"weather\"]\n",
    "scaler = StandardScaler()\n",
    "df = df.copy()  # Make a copy of the original DataFrame to preserve it\n",
    "df[columns_to_scale] = scaler.fit_transform(df[columns_to_scale])\n",
    "df\n"
   ]
  },
  {
   "cell_type": "code",
   "execution_count": 15,
   "id": "eebe9eda",
   "metadata": {
    "papermill": {
     "duration": 0.074312,
     "end_time": "2022-01-20T02:34:49.841301",
     "exception": false,
     "start_time": "2022-01-20T02:34:49.766989",
     "status": "completed"
    },
    "tags": []
   },
   "outputs": [],
   "source": [
    "x=((df.loc[:,df.columns!=\"weather\"]).astype(int)).values[:,0:]\n",
    "y=df[\"weather\"].values"
   ]
  },
  {
   "cell_type": "code",
   "execution_count": 16,
   "id": "122d0943",
   "metadata": {
    "papermill": {
     "duration": 0.075375,
     "end_time": "2022-01-20T02:34:49.984280",
     "exception": false,
     "start_time": "2022-01-20T02:34:49.908905",
     "status": "completed"
    },
    "tags": []
   },
   "outputs": [
    {
     "data": {
      "text/plain": [
       "array([0, 2, 4, 3, 1])"
      ]
     },
     "execution_count": 16,
     "metadata": {},
     "output_type": "execute_result"
    }
   ],
   "source": [
    "df.weather.unique()"
   ]
  },
  {
   "cell_type": "code",
   "execution_count": 17,
   "id": "7696d246",
   "metadata": {
    "papermill": {
     "duration": 0.077963,
     "end_time": "2022-01-20T02:34:50.128599",
     "exception": false,
     "start_time": "2022-01-20T02:34:50.050636",
     "status": "completed"
    },
    "tags": []
   },
   "outputs": [],
   "source": [
    "x_train,x_test,y_train,y_test=train_test_split(x,y,test_size=0.1,random_state=2)"
   ]
  },
  {
   "cell_type": "code",
   "execution_count": 18,
   "id": "0835d244",
   "metadata": {
    "papermill": {
     "duration": 0.082871,
     "end_time": "2022-01-20T02:34:50.540250",
     "exception": false,
     "start_time": "2022-01-20T02:34:50.457379",
     "status": "completed"
    },
    "tags": []
   },
   "outputs": [
    {
     "name": "stdout",
     "output_type": "stream",
     "text": [
      "KNN Accuracy:61.97%\n"
     ]
    }
   ],
   "source": [
    "knn=KNeighborsClassifier()\n",
    "knn.fit(x_train,y_train)\n",
    "print(\"KNN Accuracy:{:.2f}%\".format(knn.score(x_test,y_test)*100))"
   ]
  },
  {
   "cell_type": "code",
   "execution_count": 19,
   "id": "16d15240",
   "metadata": {
    "papermill": {
     "duration": 0.118784,
     "end_time": "2022-01-20T02:34:50.935976",
     "exception": false,
     "start_time": "2022-01-20T02:34:50.817192",
     "status": "completed"
    },
    "tags": []
   },
   "outputs": [
    {
     "name": "stdout",
     "output_type": "stream",
     "text": [
      "SVM Accuracy:69.01%\n"
     ]
    }
   ],
   "source": [
    "svm=SVC()\n",
    "svm.fit(x_train,y_train)\n",
    "print(\"SVM Accuracy:{:.2f}%\".format(svm.score(x_test,y_test)*100))"
   ]
  },
  {
   "cell_type": "code",
   "execution_count": 20,
   "id": "a9eb70d1",
   "metadata": {
    "papermill": {
     "duration": 4.136805,
     "end_time": "2022-01-20T02:34:55.274921",
     "exception": false,
     "start_time": "2022-01-20T02:34:51.138116",
     "status": "completed"
    },
    "tags": []
   },
   "outputs": [
    {
     "name": "stdout",
     "output_type": "stream",
     "text": [
      "Gradient Boosting Accuracy:67.61%\n"
     ]
    }
   ],
   "source": [
    "gbc=GradientBoostingClassifier(subsample=0.5,n_estimators=450,max_depth=5,max_leaf_nodes=25)\n",
    "gbc.fit(x_train,y_train)\n",
    "print(\"Gradient Boosting Accuracy:{:.2f}%\".format(gbc.score(x_test,y_test)*100))"
   ]
  },
  {
   "cell_type": "code",
   "execution_count": 21,
   "id": "a84e34c8",
   "metadata": {
    "papermill": {
     "duration": 0.706484,
     "end_time": "2022-01-20T02:34:56.180506",
     "exception": false,
     "start_time": "2022-01-20T02:34:55.474022",
     "status": "completed"
    },
    "tags": []
   },
   "outputs": [
    {
     "name": "stdout",
     "output_type": "stream",
     "text": [
      "XGB Accuracy:69.01%\n"
     ]
    }
   ],
   "source": [
    "import warnings\n",
    "warnings.filterwarnings('ignore')\n",
    "xgb=XGBClassifier()\n",
    "xgb.fit(x_train,y_train)\n",
    "print(\"XGB Accuracy:{:.2f}%\".format(xgb.score(x_test,y_test)*100))"
   ]
  },
  {
   "cell_type": "code",
   "execution_count": 22,
   "id": "f86a7356",
   "metadata": {
    "papermill": {
     "duration": 0.085743,
     "end_time": "2022-01-20T02:34:56.468413",
     "exception": false,
     "start_time": "2022-01-20T02:34:56.382670",
     "status": "completed"
    },
    "tags": []
   },
   "outputs": [
    {
     "name": "stdout",
     "output_type": "stream",
     "text": [
      "The weather is:\n",
      "Rain\n"
     ]
    }
   ],
   "source": [
    "input=[[1.140175,8.9,2.8,2.469818]]\n",
    "ot=xgb.predict(input)\n",
    "print(\"The weather is:\")\n",
    "if(ot==0):\n",
    "    print(\"Drizzle\")\n",
    "elif(ot==1):\n",
    "    print(\"Fog\")\n",
    "elif(ot==2):\n",
    "    print(\"Rain\")\n",
    "elif(ot==3):\n",
    "    print(\"snow\")\n",
    "else:\n",
    "    print(\"Sun\")"
   ]
  },
  {
   "cell_type": "code",
   "execution_count": 23,
   "id": "8fa6249a-7fe8-4896-a7a8-2b47c7b7a37f",
   "metadata": {},
   "outputs": [
    {
     "name": "stdout",
     "output_type": "stream",
     "text": [
      "Accuracy: 0.7632508833922261\n"
     ]
    }
   ],
   "source": [
    "from sklearn.model_selection import train_test_split\n",
    "from sklearn.tree import DecisionTreeClassifier\n",
    "from sklearn.metrics import accuracy_score\n",
    "\n",
    "X = df.drop(columns=[\"weather\"])  # Assuming \"weather\" is the target column\n",
    "y = df[\"weather\"]\n",
    "\n",
    "X_train, X_test, y_train, y_test = train_test_split(X, y, test_size=0.2, random_state=42)\n",
    "\n",
    "clf = DecisionTreeClassifier()\n",
    "\n",
    "clf.fit(X_train, y_train)\n",
    "\n",
    "y_pred = clf.predict(X_test)\n",
    "\n",
    "accuracy = accuracy_score(y_test, y_pred)\n",
    "print(\"Accuracy:\", accuracy)\n"
   ]
  },
  {
   "cell_type": "code",
   "execution_count": 24,
   "id": "c6e897a6-b18e-4c05-bb1c-fa1af2a8f537",
   "metadata": {},
   "outputs": [
    {
     "name": "stdout",
     "output_type": "stream",
     "text": [
      "Accuracy: 0.823321554770318\n"
     ]
    }
   ],
   "source": [
    "from sklearn.model_selection import train_test_split\n",
    "from sklearn.ensemble import RandomForestClassifier\n",
    "from sklearn.metrics import accuracy_score\n",
    "\n",
    "X = df.drop(columns=[\"weather\"])  # Assuming \"weather\" is the target column\n",
    "y = df[\"weather\"]\n",
    "\n",
    "# Splitting the data into training and testing sets\n",
    "X_train, X_test, y_train, y_test = train_test_split(X, y, test_size=0.2, random_state=42)\n",
    "\n",
    "# Creating a Random Forest Classifier\n",
    "clf = RandomForestClassifier()\n",
    "\n",
    "# Training the classifier on the training data\n",
    "clf.fit(X_train, y_train)\n",
    "\n",
    "# Making predictions on the test data\n",
    "y_pred = clf.predict(X_test)\n",
    "\n",
    "# Evaluating the model\n",
    "accuracy = accuracy_score(y_test, y_pred)\n",
    "print(\"Accuracy:\", accuracy)\n"
   ]
  },
  {
   "cell_type": "code",
   "execution_count": 25,
   "id": "95abd927-15a6-466f-9559-2eb8ef61f9cf",
   "metadata": {},
   "outputs": [
    {
     "data": {
      "text/plain": [
       "['your_model.pkl']"
      ]
     },
     "execution_count": 25,
     "metadata": {},
     "output_type": "execute_result"
    }
   ],
   "source": [
    "joblib.dump(clf, \"your_model.pkl\")"
   ]
  },
  {
   "cell_type": "code",
   "execution_count": null,
   "id": "58cdce52-8aea-4867-b670-c50b89cc00c1",
   "metadata": {},
   "outputs": [],
   "source": []
  }
 ],
 "metadata": {
  "kernelspec": {
   "display_name": "Python 3 (ipykernel)",
   "language": "python",
   "name": "python3"
  },
  "language_info": {
   "codemirror_mode": {
    "name": "ipython",
    "version": 3
   },
   "file_extension": ".py",
   "mimetype": "text/x-python",
   "name": "python",
   "nbconvert_exporter": "python",
   "pygments_lexer": "ipython3",
   "version": "3.11.7"
  },
  "papermill": {
   "default_parameters": {},
   "duration": 30.793591,
   "end_time": "2022-01-20T02:34:57.346390",
   "environment_variables": {},
   "exception": null,
   "input_path": "__notebook__.ipynb",
   "output_path": "__notebook__.ipynb",
   "parameters": {},
   "start_time": "2022-01-20T02:34:26.552799",
   "version": "2.3.3"
  }
 },
 "nbformat": 4,
 "nbformat_minor": 5
}
